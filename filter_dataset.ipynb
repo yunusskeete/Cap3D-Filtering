{
 "cells": [
  {
   "cell_type": "markdown",
   "metadata": {},
   "source": [
    "# Cap3D Dataset Filtering\n",
    "\n",
    "This notebook provides a step-by-step and visually-aided walk through the [Cap3D dataset](https://huggingface.co/datasets/tiange/Cap3D) filtering logic.\n",
    "\n",
    "The filtering process makes use of the 3D asset descriptions provided by [Cap3D](https://cap3d-um.github.io/). These descriptions detail assets from a large-scale and broad-categoried collection of open-source 3D models (namely [Objaverse](https://arxiv.org/abs/2212.08051), [Objaverse-XL](https://arxiv.org/abs/2307.05663), and [ABO](https://arxiv.org/abs/2110.06199)).\n",
    "\n",
    "The purpose of this notebook is to filter these assets for domain alignment with an architectural/building/interior design use case, with basic natural language processing techniques."
   ]
  },
  {
   "cell_type": "markdown",
   "metadata": {},
   "source": [
    "## Imports"
   ]
  },
  {
   "cell_type": "code",
   "execution_count": 1,
   "metadata": {},
   "outputs": [
    {
     "name": "stderr",
     "output_type": "stream",
     "text": [
      "[nltk_data] Downloading package punkt to\n",
      "[nltk_data]     /home/yunusskeete/nltk_data...\n",
      "[nltk_data]   Package punkt is already up-to-date!\n"
     ]
    },
    {
     "data": {
      "text/plain": [
       "True"
      ]
     },
     "execution_count": 1,
     "metadata": {},
     "output_type": "execute_result"
    }
   ],
   "source": [
    "import json\n",
    "import os\n",
    "from collections import Counter, OrderedDict\n",
    "from pathlib import Path\n",
    "from typing import List, Union\n",
    "\n",
    "import nltk\n",
    "import pandas as pd\n",
    "from nltk.tokenize import word_tokenize\n",
    "\n",
    "nltk.download(\"punkt\")"
   ]
  },
  {
   "cell_type": "markdown",
   "metadata": {},
   "source": [
    "## Visualise Captions"
   ]
  },
  {
   "cell_type": "code",
   "execution_count": 2,
   "metadata": {},
   "outputs": [],
   "source": [
    "PATH_TO_CAPTIONS: Union[str, Path] = \"captions/Cap3D_automated_Objaverse_full.csv\"\n",
    "\n",
    "df = pd.read_csv(\n",
    "    PATH_TO_CAPTIONS,\n",
    "    header=None,\n",
    "    names=[\"id\", \"desc\"],\n",
    ")"
   ]
  },
  {
   "cell_type": "markdown",
   "metadata": {},
   "source": [
    "Note, captions frequently contain reference to a \"3D model\":"
   ]
  },
  {
   "cell_type": "code",
   "execution_count": 3,
   "metadata": {},
   "outputs": [
    {
     "data": {
      "text/html": [
       "<div>\n",
       "<style scoped>\n",
       "    .dataframe tbody tr th:only-of-type {\n",
       "        vertical-align: middle;\n",
       "    }\n",
       "\n",
       "    .dataframe tbody tr th {\n",
       "        vertical-align: top;\n",
       "    }\n",
       "\n",
       "    .dataframe thead th {\n",
       "        text-align: right;\n",
       "    }\n",
       "</style>\n",
       "<table border=\"1\" class=\"dataframe\">\n",
       "  <thead>\n",
       "    <tr style=\"text-align: right;\">\n",
       "      <th></th>\n",
       "      <th>id</th>\n",
       "      <th>desc</th>\n",
       "    </tr>\n",
       "  </thead>\n",
       "  <tbody>\n",
       "    <tr>\n",
       "      <th>3</th>\n",
       "      <td>28d43a218cd8466a8c1f82b29b71e314</td>\n",
       "      <td>3D model of a cluttered outdoor scene with veg...</td>\n",
       "    </tr>\n",
       "    <tr>\n",
       "      <th>7</th>\n",
       "      <td>d7340a5b05b6460facbd90aaafb7f1f1</td>\n",
       "      <td>3D topographic landscape model with color-code...</td>\n",
       "    </tr>\n",
       "    <tr>\n",
       "      <th>8</th>\n",
       "      <td>bb3552fe9b074acf8ea531c2e9e25fe7</td>\n",
       "      <td>A stylized 3D corner room with textured walls ...</td>\n",
       "    </tr>\n",
       "    <tr>\n",
       "      <th>19</th>\n",
       "      <td>dcd9cb4775934a4d9572d923a3c8fc2c</td>\n",
       "      <td>Abstract, amorphous 3D structure with varying ...</td>\n",
       "    </tr>\n",
       "    <tr>\n",
       "      <th>23</th>\n",
       "      <td>578f5a1461a7441aad8a3a92f16ae94e</td>\n",
       "      <td>Monochromatic 3D model of a simplified frying ...</td>\n",
       "    </tr>\n",
       "    <tr>\n",
       "      <th>...</th>\n",
       "      <td>...</td>\n",
       "      <td>...</td>\n",
       "    </tr>\n",
       "    <tr>\n",
       "      <th>1002414</th>\n",
       "      <td>3536f5c1446f761882018b2f98f4d2aa901942a826cf36...</td>\n",
       "      <td>A voxel-based 3D model of a stylized monkey fa...</td>\n",
       "    </tr>\n",
       "    <tr>\n",
       "      <th>1002417</th>\n",
       "      <td>3623e74f34c1c3c523af6b2bb8ffcbe2d2dce897ef61b9...</td>\n",
       "      <td>Abstract 3D composition with human figures and...</td>\n",
       "    </tr>\n",
       "    <tr>\n",
       "      <th>1002418</th>\n",
       "      <td>64e9f7b7a1fc4c4ec56ed8b5917dfd610930043ac5e15f...</td>\n",
       "      <td>3D object with a rough, irregular pink surface...</td>\n",
       "    </tr>\n",
       "    <tr>\n",
       "      <th>1002419</th>\n",
       "      <td>fcd089d6a237fee21dfd5f0d6d9b74b2fd1150cdc61c7f...</td>\n",
       "      <td>Bright pink abstract 3D model of a building wi...</td>\n",
       "    </tr>\n",
       "    <tr>\n",
       "      <th>1002420</th>\n",
       "      <td>f812dc980050f2d5f4b37df2a8620372f810dd6456a5f2...</td>\n",
       "      <td>Monochromatic gray 3D model of a stylized huma...</td>\n",
       "    </tr>\n",
       "  </tbody>\n",
       "</table>\n",
       "<p>143263 rows × 2 columns</p>\n",
       "</div>"
      ],
      "text/plain": [
       "                                                        id  \\\n",
       "3                         28d43a218cd8466a8c1f82b29b71e314   \n",
       "7                         d7340a5b05b6460facbd90aaafb7f1f1   \n",
       "8                         bb3552fe9b074acf8ea531c2e9e25fe7   \n",
       "19                        dcd9cb4775934a4d9572d923a3c8fc2c   \n",
       "23                        578f5a1461a7441aad8a3a92f16ae94e   \n",
       "...                                                    ...   \n",
       "1002414  3536f5c1446f761882018b2f98f4d2aa901942a826cf36...   \n",
       "1002417  3623e74f34c1c3c523af6b2bb8ffcbe2d2dce897ef61b9...   \n",
       "1002418  64e9f7b7a1fc4c4ec56ed8b5917dfd610930043ac5e15f...   \n",
       "1002419  fcd089d6a237fee21dfd5f0d6d9b74b2fd1150cdc61c7f...   \n",
       "1002420  f812dc980050f2d5f4b37df2a8620372f810dd6456a5f2...   \n",
       "\n",
       "                                                      desc  \n",
       "3        3D model of a cluttered outdoor scene with veg...  \n",
       "7        3D topographic landscape model with color-code...  \n",
       "8        A stylized 3D corner room with textured walls ...  \n",
       "19       Abstract, amorphous 3D structure with varying ...  \n",
       "23       Monochromatic 3D model of a simplified frying ...  \n",
       "...                                                    ...  \n",
       "1002414  A voxel-based 3D model of a stylized monkey fa...  \n",
       "1002417  Abstract 3D composition with human figures and...  \n",
       "1002418  3D object with a rough, irregular pink surface...  \n",
       "1002419  Bright pink abstract 3D model of a building wi...  \n",
       "1002420  Monochromatic gray 3D model of a stylized huma...  \n",
       "\n",
       "[143263 rows x 2 columns]"
      ]
     },
     "execution_count": 3,
     "metadata": {},
     "output_type": "execute_result"
    }
   ],
   "source": [
    "df.loc[df[\"desc\"].str.contains(\"3D\")]"
   ]
  },
  {
   "cell_type": "markdown",
   "metadata": {},
   "source": [
    "## Removing references to a 3D model\n",
    "\n",
    "(Not implemented)"
   ]
  },
  {
   "cell_type": "code",
   "execution_count": 4,
   "metadata": {},
   "outputs": [],
   "source": [
    "# A dictionary to hold references and replacements\n",
    "_3D_phrase_replacements = {\"3D model of a\": \"\"}\n",
    "\n",
    "\n",
    "# A funtion to be applied to the captions to remove references to a 3d model\n",
    "def remove_3D_word(description: str) -> str:\n",
    "    raise NotImplementedError()"
   ]
  },
  {
   "cell_type": "markdown",
   "metadata": {},
   "source": [
    "## Tokenisation"
   ]
  },
  {
   "cell_type": "code",
   "execution_count": 5,
   "metadata": {},
   "outputs": [
    {
     "data": {
      "text/html": [
       "<div>\n",
       "<style scoped>\n",
       "    .dataframe tbody tr th:only-of-type {\n",
       "        vertical-align: middle;\n",
       "    }\n",
       "\n",
       "    .dataframe tbody tr th {\n",
       "        vertical-align: top;\n",
       "    }\n",
       "\n",
       "    .dataframe thead th {\n",
       "        text-align: right;\n",
       "    }\n",
       "</style>\n",
       "<table border=\"1\" class=\"dataframe\">\n",
       "  <thead>\n",
       "    <tr style=\"text-align: right;\">\n",
       "      <th></th>\n",
       "      <th>id</th>\n",
       "      <th>desc</th>\n",
       "      <th>desc tokens</th>\n",
       "    </tr>\n",
       "  </thead>\n",
       "  <tbody>\n",
       "    <tr>\n",
       "      <th>0</th>\n",
       "      <td>ed51a51909ee46c780db3a85e821feb2</td>\n",
       "      <td>Matte green rifle with a long barrel, stock, a...</td>\n",
       "      <td>[matte, green, rifle, with, a, long, barrel, ,...</td>\n",
       "    </tr>\n",
       "    <tr>\n",
       "      <th>1</th>\n",
       "      <td>9110b606f6c547b2980fcb3c8c4b6a1c</td>\n",
       "      <td>Rustic single-story building with a weathered ...</td>\n",
       "      <td>[rustic, single, -, story, building, with, a, ...</td>\n",
       "    </tr>\n",
       "    <tr>\n",
       "      <th>2</th>\n",
       "      <td>80d9caaa1fa04502af666135196456e1</td>\n",
       "      <td>a pair of purple and black swords with white h...</td>\n",
       "      <td>[a, pair, of, purple, and, black, swords, with...</td>\n",
       "    </tr>\n",
       "    <tr>\n",
       "      <th>3</th>\n",
       "      <td>28d43a218cd8466a8c1f82b29b71e314</td>\n",
       "      <td>3D model of a cluttered outdoor scene with veg...</td>\n",
       "      <td>[3d, model, of, a, cluttered, outdoor, scene, ...</td>\n",
       "    </tr>\n",
       "    <tr>\n",
       "      <th>4</th>\n",
       "      <td>75582285fab442a2ba31733f9c8fae66</td>\n",
       "      <td>Floating terrain piece with grassy landscape a...</td>\n",
       "      <td>[floating, terrain, piece, with, grassy, lands...</td>\n",
       "    </tr>\n",
       "    <tr>\n",
       "      <th>...</th>\n",
       "      <td>...</td>\n",
       "      <td>...</td>\n",
       "      <td>...</td>\n",
       "    </tr>\n",
       "    <tr>\n",
       "      <th>1002417</th>\n",
       "      <td>3623e74f34c1c3c523af6b2bb8ffcbe2d2dce897ef61b9...</td>\n",
       "      <td>Abstract 3D composition with human figures and...</td>\n",
       "      <td>[abstract, 3d, composition, with, human, figur...</td>\n",
       "    </tr>\n",
       "    <tr>\n",
       "      <th>1002418</th>\n",
       "      <td>64e9f7b7a1fc4c4ec56ed8b5917dfd610930043ac5e15f...</td>\n",
       "      <td>3D object with a rough, irregular pink surface...</td>\n",
       "      <td>[3d, object, with, a, rough, ,, irregular, pin...</td>\n",
       "    </tr>\n",
       "    <tr>\n",
       "      <th>1002419</th>\n",
       "      <td>fcd089d6a237fee21dfd5f0d6d9b74b2fd1150cdc61c7f...</td>\n",
       "      <td>Bright pink abstract 3D model of a building wi...</td>\n",
       "      <td>[bright, pink, abstract, 3d, model, of, a, bui...</td>\n",
       "    </tr>\n",
       "    <tr>\n",
       "      <th>1002420</th>\n",
       "      <td>f812dc980050f2d5f4b37df2a8620372f810dd6456a5f2...</td>\n",
       "      <td>Monochromatic gray 3D model of a stylized huma...</td>\n",
       "      <td>[monochromatic, gray, 3d, model, of, a, styliz...</td>\n",
       "    </tr>\n",
       "    <tr>\n",
       "      <th>1002421</th>\n",
       "      <td>77c09500b4d8e4b881e1ce6929d56c23658b87173c0996...</td>\n",
       "      <td>Modular futuristic spacecraft with red and ora...</td>\n",
       "      <td>[modular, futuristic, spacecraft, with, red, a...</td>\n",
       "    </tr>\n",
       "  </tbody>\n",
       "</table>\n",
       "<p>1002422 rows × 3 columns</p>\n",
       "</div>"
      ],
      "text/plain": [
       "                                                        id  \\\n",
       "0                         ed51a51909ee46c780db3a85e821feb2   \n",
       "1                         9110b606f6c547b2980fcb3c8c4b6a1c   \n",
       "2                         80d9caaa1fa04502af666135196456e1   \n",
       "3                         28d43a218cd8466a8c1f82b29b71e314   \n",
       "4                         75582285fab442a2ba31733f9c8fae66   \n",
       "...                                                    ...   \n",
       "1002417  3623e74f34c1c3c523af6b2bb8ffcbe2d2dce897ef61b9...   \n",
       "1002418  64e9f7b7a1fc4c4ec56ed8b5917dfd610930043ac5e15f...   \n",
       "1002419  fcd089d6a237fee21dfd5f0d6d9b74b2fd1150cdc61c7f...   \n",
       "1002420  f812dc980050f2d5f4b37df2a8620372f810dd6456a5f2...   \n",
       "1002421  77c09500b4d8e4b881e1ce6929d56c23658b87173c0996...   \n",
       "\n",
       "                                                      desc  \\\n",
       "0        Matte green rifle with a long barrel, stock, a...   \n",
       "1        Rustic single-story building with a weathered ...   \n",
       "2        a pair of purple and black swords with white h...   \n",
       "3        3D model of a cluttered outdoor scene with veg...   \n",
       "4        Floating terrain piece with grassy landscape a...   \n",
       "...                                                    ...   \n",
       "1002417  Abstract 3D composition with human figures and...   \n",
       "1002418  3D object with a rough, irregular pink surface...   \n",
       "1002419  Bright pink abstract 3D model of a building wi...   \n",
       "1002420  Monochromatic gray 3D model of a stylized huma...   \n",
       "1002421  Modular futuristic spacecraft with red and ora...   \n",
       "\n",
       "                                               desc tokens  \n",
       "0        [matte, green, rifle, with, a, long, barrel, ,...  \n",
       "1        [rustic, single, -, story, building, with, a, ...  \n",
       "2        [a, pair, of, purple, and, black, swords, with...  \n",
       "3        [3d, model, of, a, cluttered, outdoor, scene, ...  \n",
       "4        [floating, terrain, piece, with, grassy, lands...  \n",
       "...                                                    ...  \n",
       "1002417  [abstract, 3d, composition, with, human, figur...  \n",
       "1002418  [3d, object, with, a, rough, ,, irregular, pin...  \n",
       "1002419  [bright, pink, abstract, 3d, model, of, a, bui...  \n",
       "1002420  [monochromatic, gray, 3d, model, of, a, styliz...  \n",
       "1002421  [modular, futuristic, spacecraft, with, red, a...  \n",
       "\n",
       "[1002422 rows x 3 columns]"
      ]
     },
     "execution_count": 5,
     "metadata": {},
     "output_type": "execute_result"
    }
   ],
   "source": [
    "# Convert descriptions to lowercase\n",
    "df[\"desc tokens\"] = df[\"desc\"].apply(\n",
    "    lambda desc: desc.lower().replace(\"/\", \" / \").replace(\"-\", \" - \")\n",
    ")\n",
    "\n",
    "# Tokenize each description\n",
    "df[\"desc tokens\"] = df[\"desc tokens\"].apply(word_tokenize)\n",
    "df"
   ]
  },
  {
   "cell_type": "markdown",
   "metadata": {},
   "source": [
    "## Vocabulary extraction"
   ]
  },
  {
   "cell_type": "code",
   "execution_count": 6,
   "metadata": {},
   "outputs": [
    {
     "data": {
      "text/plain": [
       "36864"
      ]
     },
     "execution_count": 6,
     "metadata": {},
     "output_type": "execute_result"
    }
   ],
   "source": [
    "# Create the vocabulary\n",
    "vocab = set()\n",
    "\n",
    "# Create the word counts\n",
    "word_counts = {}\n",
    "\n",
    "for tokens in df[\"desc tokens\"]:\n",
    "    # Update the vocabulary\n",
    "    vocab.update([token.replace(\"'\", \"\") for token in tokens])\n",
    "\n",
    "    # Count the occurrences of each word\n",
    "    for word in tokens:\n",
    "        if word in word_counts:\n",
    "            word_counts[word] += 1\n",
    "        else:\n",
    "            word_counts[word] = 1\n",
    "\n",
    "len(vocab)"
   ]
  },
  {
   "cell_type": "markdown",
   "metadata": {},
   "source": [
    "View word counts:"
   ]
  },
  {
   "cell_type": "code",
   "execution_count": 7,
   "metadata": {},
   "outputs": [
    {
     "data": {
      "text/plain": [
       "[('a', 1834283),\n",
       " (',', 1208508),\n",
       " ('.', 971807),\n",
       " ('and', 888411),\n",
       " ('with', 820817),\n",
       " ('of', 336260),\n",
       " ('white', 301931),\n",
       " ('-', 231668),\n",
       " ('in', 171788),\n",
       " ('on', 159463),\n",
       " ('featuring', 156252),\n",
       " ('the', 153565),\n",
       " ('3d', 143301),\n",
       " ('black', 135066),\n",
       " ('model', 130748)]"
      ]
     },
     "execution_count": 7,
     "metadata": {},
     "output_type": "execute_result"
    }
   ],
   "source": [
    "# Convert the dictionary to a Counter object\n",
    "word_counter = Counter(word_counts)\n",
    "\n",
    "# Order the Counter object by the number of occurrences\n",
    "ordered_word_counter = OrderedDict(word_counter.most_common())\n",
    "list(ordered_word_counter.items())[:15]"
   ]
  },
  {
   "cell_type": "markdown",
   "metadata": {},
   "source": [
    "## Load keywords by category"
   ]
  },
  {
   "cell_type": "code",
   "execution_count": 8,
   "metadata": {},
   "outputs": [
    {
     "data": {
      "text/plain": [
       "dict_keys(['Furniture', 'Materials', 'Appliances', 'Decor', 'Kitchenware', 'Bedroom', 'Bathroom', 'Living Room', 'Outdoor', 'Miscellaneous'])"
      ]
     },
     "execution_count": 8,
     "metadata": {},
     "output_type": "execute_result"
    }
   ],
   "source": [
    "PATH_TO_KEYWORDS_BY_CATEGORY = \"keywords/keywords_by_category.json\"\n",
    "\n",
    "with open(PATH_TO_KEYWORDS_BY_CATEGORY, \"rb\") as f:\n",
    "    keywords_dict = json.load(f)\n",
    "\n",
    "keywords_dict.keys()"
   ]
  },
  {
   "cell_type": "code",
   "execution_count": 9,
   "metadata": {},
   "outputs": [
    {
     "data": {
      "text/plain": [
       "271"
      ]
     },
     "execution_count": 9,
     "metadata": {},
     "output_type": "execute_result"
    }
   ],
   "source": [
    "EXCLUDED_CATEGORIES: List[str] = [\n",
    "    \"Appliances\",\n",
    "    \"Kitchenware\",\n",
    "    \"Outdoor\",\n",
    "    \"Miscellaneous\",\n",
    "]\n",
    "keywords = set(\n",
    "    [\n",
    "        item.lower()\n",
    "        for category, sublist in keywords_dict.items()\n",
    "        for item in sublist\n",
    "        if category not in EXCLUDED_CATEGORIES\n",
    "    ]\n",
    ")\n",
    "len(keywords)"
   ]
  },
  {
   "cell_type": "markdown",
   "metadata": {},
   "source": [
    "## Filter dataset"
   ]
  },
  {
   "cell_type": "code",
   "execution_count": 10,
   "metadata": {},
   "outputs": [
    {
     "data": {
      "text/plain": [
       "(452263, 550159)"
      ]
     },
     "execution_count": 10,
     "metadata": {},
     "output_type": "execute_result"
    }
   ],
   "source": [
    "def check_keywords(tokens: List[str]) -> bool:\n",
    "    \"\"\"\n",
    "    Check if any token matches a keyword or its plural.\n",
    "    \"\"\"\n",
    "    return any(((token in keywords) or (f\"{token}s\" in keywords)) for token in tokens)\n",
    "\n",
    "\n",
    "# Determine if rows should be included\n",
    "df[\"include\"] = df[\"desc tokens\"].apply(lambda tokens: check_keywords(tokens))\n",
    "\n",
    "filtered_df = df[df[\"include\"] == True].drop(columns=[\"include\"])\n",
    "\n",
    "excluded_df = df[df[\"include\"] == False].drop(columns=[\"include\"])\n",
    "\n",
    "len(filtered_df), len(excluded_df)"
   ]
  },
  {
   "cell_type": "markdown",
   "metadata": {},
   "source": [
    "## Inspect filtered dataset"
   ]
  },
  {
   "cell_type": "code",
   "execution_count": 11,
   "metadata": {},
   "outputs": [],
   "source": [
    "# Set the display width\n",
    "pd.set_option(\"display.max_colwidth\", 150)"
   ]
  },
  {
   "cell_type": "code",
   "execution_count": 12,
   "metadata": {},
   "outputs": [
    {
     "data": {
      "text/plain": [
       "883540             Stylized orange bear figurine with a simplified form, featuring a darker contrasting muzzle, a light chest patch, and wearing a grey collar.\n",
       "400428                                                                                                                                     White Satellite Dish\n",
       "602639                                                                                 a stack of paper rolls on a wooden bench under a white curved-edge roof.\n",
       "157442                                          wooden side table with a round top and three legs, accompanied by a wooden stool with a round top and two legs.\n",
       "793807    Modular purple 3D structure with rectilinear shapes, featuring an upper floor with cut-out windows, lower spaces resembling storefronts, and protr...\n",
       "78426     A three-dimensional geometric assembly composed of multiple colored lines and shaded planes, creating an abstract visualization that resembles a s...\n",
       "457228                                                         a multi-floor white and yellow building with shelves, stairs, a yellow roof, and yellow columns.\n",
       "594009                                                                                                            a house with wooden roof trusses and framing.\n",
       "308953                                                                                                          a white bed with grey drawers and a grey cover.\n",
       "495332    Olive green military-style metal storage box with dark brown wooden lid, featuring metal handles and hinges, labeled with white stenciled text and...\n",
       "272769    A textured, colorful graffiti wall with urban art depicting various abstract forms, patterns, and figurative elements, alongside a floating cube f...\n",
       "250144                                                                Minimalist white bowling pin-shaped object with a loop at the top and a slit at the base.\n",
       "935443                                                   Abstract blue fabric stretched over a minimalist frame structure with spherical nodes at the vertices.\n",
       "993923                                Monochrome 3D model of a stylized cartoon character in an action pose, featuring oversized shoes, gloves, and spiky hair.\n",
       "307271                                                                                     a stone head, stairway, small stone structure, stone wall, and boat.\n",
       "761537                                                                                                                                        Small black chair\n",
       "562255                                                                                                                     A red table lamp with a black shade.\n",
       "78311                                                                                   white figurine of a man with horns, wearing a hat, and holding a sword.\n",
       "995918             Red humanoid figure composed of geometric shapes with a spherical head, segmented limbs, and articulated joints, presented in various poses.\n",
       "373877                                                                                                    a white stone with writing, resembling marble or ice.\n",
       "532729                                                  a woman wearing a feathered dress, accompanied by various illustrations of animals and nature elements.\n",
       "311267                                                                            a stone and concrete bridge with railing and marble-patterned light fixtures.\n",
       "659062                                                                                                                 white dragon head with spikes and horns.\n",
       "422273                                                                                a black and white table with a staircase, sink, and square ceiling light.\n",
       "484174                                                                         A rough, irregularly-shaped white stone with pitted and craggy surface textures.\n",
       "386675                                                                                                                         a small brick house with a roof.\n",
       "933781                                 Stylized 3D character with an oversized head wearing a maroon baseball cap, green sweater, blue shorts, and brown shoes.\n",
       "401344                                                                     a small building with stairs, a table featuring a clock, and ceiling light fixtures.\n",
       "521027                                                                                                                   a gun with a wooden handle and barrel.\n",
       "192316                                                                                                                             an old, rusty metal tin box.\n",
       "588605                                                                          a desk, bookshelf, barrels, scales, and various items in brown and green tones.\n",
       "384923                                                                                                      a purple and orange bench with blue and pink lines.\n",
       "116775                                                                                        a blue, flat, glass-tiled roof structure with a white brick wall.\n",
       "685978                                                      a large steel structure, possibly a building, with a model of a table featuring red and blue lines.\n",
       "931783                                   3D model of a person wearing a teal uniform and black shoes, featuring a male hairstyle and neutral facial expression.\n",
       "909721    3D model of a female figure with a stylized appearance, featuring a brown sweater with a decorative wavy pattern at the chest level, a white and p...\n",
       "647268                                       various flying birds and insects, including a swan, flamingo, mantis, and a drawing of a giraffe with a long neck.\n",
       "11260                                                                                       a candy shop featuring a lollipop stand and topped with a lollipop.\n",
       "767428    Assembled 3D collage composed of various elements including a textured red fabric draped over a form, a humanoid figure wearing a helmet, and abst...\n",
       "675186                                                                                                  a blonde woman with a ponytail wearing a striped shirt.\n",
       "621297                                                                                         a covered wagon with a wooden roof, a horse, and a bottle on it.\n",
       "292152                                                                                                        A small, cracked stone bowl with a broken handle.\n",
       "442388    Three traditional square pillows with red geometric patterns on the sides and black tops, a large flat decorated textile beneath them, and a 3D-re...\n",
       "364957                                                                                 a mattress, a building with a square floor, a maze, and a ceiling light.\n",
       "114141                                                                          A modern white pendant light with a ball-shaped shade hanging from the ceiling.\n",
       "807348              Futuristic angular structure with a bold fuchsia and black color scheme, featuring a prominent cut-out window with a textured gray surface.\n",
       "752571                                                                                                                               a stone circle in Scotland\n",
       "862151                  3D model of a person wearing a historical military uniform, featuring a navy blue coat with gold buttons, white pants, and black boots.\n",
       "174404                                                              a stainless steel gas stove top with four blue burners and a ceiling-mounted light fixture.\n",
       "981568    Monochromatic, stylized figurine resembling an animated character; the figure displays large, round features and a simplified form with no distinc...\n",
       "Name: desc, dtype: object"
      ]
     },
     "execution_count": 12,
     "metadata": {},
     "output_type": "execute_result"
    }
   ],
   "source": [
    "filtered_df[\"desc\"].sample(50)"
   ]
  },
  {
   "cell_type": "code",
   "execution_count": 13,
   "metadata": {},
   "outputs": [
    {
     "data": {
      "text/plain": [
       "467625                                                                                                                                            a Soviet tank\n",
       "499860                                                                                                                                   Royalty-free ant model\n",
       "297189                                                                                                                 a sword with a yellow handle and flames.\n",
       "758621                                                                                    a wooden boat, a leaf, an island with a small tree, and a tree stump.\n",
       "538328                                                                                                              a white building with a pink and blue roof.\n",
       "941776                                                              3D model of a textured, ribbed pumpkin with a vibrant orange color and a short, green stem.\n",
       "150953                                                                                  Matte white shield-shaped 3D object with a flat back and faceted front.\n",
       "524715                                                                                             toy model of a military truck with a missile attached to it.\n",
       "55723                                                                                                                                       Black bathtub model\n",
       "294364             Matte white sculptural element with a stylized acanthus leaf design, featuring a smooth shell-like central motif and flaring leafy contours.\n",
       "451231                                                                                                               white snowman model with a spherical body.\n",
       "112132                        White abstract 3D model resembling a stylized bull with elongated leg-like extensions and a central protruding horn-like feature.\n",
       "331525                                                                                                                   a man holding a large axe and a sword.\n",
       "834189    A vibrant pink cylindrical object with a faceted surface, accompanied by a smaller, similarly colored and shaped cap or base. The objects appear t...\n",
       "464073                                                     A black and white pixelated Minecraft character with purple eyes, resembling a skeleton and creeper.\n",
       "569120                                                                                              a building and a plane, featuring grass, trees, and a bird.\n",
       "161083                                                                                 a spiral staircase with yellow and green lines, resembling a DNA ladder.\n",
       "585009                                                                                                          a woman lying on her back, floating in the air.\n",
       "769995                                                                                                                    a black cube featuring a woman's face\n",
       "956477                                         Rectangular prism with a uniform matte gray surface, one end of the object is open, revealing a hollow interior.\n",
       "585937    3D representation of a surface with irregular topography and water bodies, resembling a stylized map or landscape model, in grayscale tones with t...\n",
       "680792                                                                                      a large, multicolored cargo container, cargo ship, and cargo truck.\n",
       "685825                                                                                                                                   a purple line or arrow\n",
       "791877    Monochromatic 3D model of the lower half of a human figure consisting of legs wearing shorts extending from the mid-thigh to bare feet. The model ...\n",
       "743254                                                       Lego models of an airplane, robot, car, police car, boat, and spaceship, some with a bird on them.\n",
       "812749             A gray rectangular base with a series of small square indentations along the surface, topped by two rectangular boxes, one blue and one red.\n",
       "401671                                                   Matte black tactical knife with an ergonomic handle, multiple cutouts, and a partially serrated blade.\n",
       "108364                                                                                                                   purple ring with a purple ball inside.\n",
       "995557                                                                          Bright pink abstract 3D sculpture with varying geometric shapes on a flat base.\n",
       "917513              Monochromatic matte grey abstract sculpture consisting of a series of interconnected rectangular panels with varying rectangular apertures.\n",
       "675333                                                                                                  a graffiti-covered building, resembling a small garage.\n",
       "371774                                                                                                                     Captain America's round metal shield\n",
       "329494                                                  A series of stylized, magenta-colored, bear-like figures in various poses with minimal facial features.\n",
       "767082                                                                                                                                a pile of dirt and leaves\n",
       "819305                                                                        A tall, slender, hexagonal pillar with small magenta details near the upper edge.\n",
       "15051                                                                                                             a small spaceship with a red ring and nozzle.\n",
       "224148                                                                                                                                a vintage movie projector\n",
       "472714                                                                                                                        a black and white striped square.\n",
       "241813    Soviet space mission patches featuring a central design of a globe, an orbit path, and a spacecraft. The design includes Cyrillic text \"СССР\" (USS...\n",
       "639613                                                                                                                                            a white screw\n",
       "343936                                                                                                                             a shopping cart with wheels.\n",
       "622912                                                                         a purple hand with claws holding various purple objects and featuring red nails.\n",
       "538123    Triangular flint arrowhead with notched edges and a pointed tip, characterized by a chipped texture, and has markings that suggest cataloging or i...\n",
       "974215                                              Bright magenta, irregularly shaped 3D blob with a somewhat flattened appearance and uneven surface texture.\n",
       "903387          3D model of a rectangular pillar with East Asian script, a slightly weathered texture, grass at the base, and variations in lighting and color.\n",
       "284411                                                                                                               white birdcage with an orange ball inside.\n",
       "512306    a group of people in various outdoor settings, including a boat, snowy landscape, field, and city, with elements like flowers, trees, and flying c...\n",
       "295397                                                                                                                       an armored knight holding a sword.\n",
       "155516                                                                                                                                a horned demon character.\n",
       "80987                                                                                                                  Zoop logo with orange and white letters.\n",
       "Name: desc, dtype: object"
      ]
     },
     "execution_count": 13,
     "metadata": {},
     "output_type": "execute_result"
    }
   ],
   "source": [
    "excluded_df[\"desc\"].sample(50)"
   ]
  },
  {
   "cell_type": "markdown",
   "metadata": {},
   "source": [
    "## Save filtered dataset"
   ]
  },
  {
   "cell_type": "code",
   "execution_count": 14,
   "metadata": {},
   "outputs": [],
   "source": [
    "ENCODING: str = \"utf-8\"\n",
    "PATH_TO_INCLUDED_IDS: Union[str, Path] = \"ids/included_ids.json\"\n",
    "PATH_TO_EXCLUDED_IDS: Union[str, Path] = \"ids/excluded_ids.json\"\n",
    "\n",
    "if not os.path.exists(os.path.dirname(PATH_TO_INCLUDED_IDS)):\n",
    "    os.mkdir(os.path.dirname(PATH_TO_INCLUDED_IDS))\n",
    "\n",
    "if not os.path.exists(os.path.dirname(PATH_TO_EXCLUDED_IDS)):\n",
    "    os.mkdir(os.path.dirname(PATH_TO_EXCLUDED_IDS))\n",
    "\n",
    "with open(PATH_TO_INCLUDED_IDS, \"w\", encoding=ENCODING) as f:\n",
    "    json.dump(filtered_df[\"id\"].tolist(), f, indent=4)\n",
    "\n",
    "with open(PATH_TO_EXCLUDED_IDS, \"w\", encoding=ENCODING) as f:\n",
    "    json.dump(excluded_df[\"id\"].tolist(), f, indent=4)"
   ]
  }
 ],
 "metadata": {
  "kernelspec": {
   "display_name": "3d",
   "language": "python",
   "name": "python3"
  },
  "language_info": {
   "codemirror_mode": {
    "name": "ipython",
    "version": 3
   },
   "file_extension": ".py",
   "mimetype": "text/x-python",
   "name": "python",
   "nbconvert_exporter": "python",
   "pygments_lexer": "ipython3",
   "version": "3.11.9"
  }
 },
 "nbformat": 4,
 "nbformat_minor": 2
}
